{
 "cells": [
  {
   "cell_type": "code",
   "execution_count": 21,
   "id": "7e87653d-983b-4c2f-ba91-a21ff6ae1969",
   "metadata": {},
   "outputs": [],
   "source": [
    "import pandas as pd\n",
    "# link to the data https://data.humdata.org/dataset/novel-coronavirus-2019-ncov-cases"
   ]
  },
  {
   "cell_type": "code",
   "execution_count": 22,
   "id": "c3cff0be-38b2-4ec7-bb2a-207e71275bed",
   "metadata": {},
   "outputs": [],
   "source": [
    "df = pd.read_csv('time_series_covid19_confirmed_global.csv')"
   ]
  },
  {
   "cell_type": "code",
   "execution_count": 23,
   "id": "ae69a5ec-2f04-4c3e-ba89-019530a62861",
   "metadata": {},
   "outputs": [],
   "source": [
    "df = df.drop(['Province/State','Lat','Long'],axis=1)"
   ]
  },
  {
   "cell_type": "code",
   "execution_count": 24,
   "id": "54acc1e8-d39d-44cf-aaad-d5900a827d96",
   "metadata": {},
   "outputs": [],
   "source": [
    "df = df[df['Country/Region'].apply(lambda x: x in ['Uganda','Kenya','Tanzania'])]"
   ]
  },
  {
   "cell_type": "code",
   "execution_count": 28,
   "id": "b38287ce-05b1-498c-bb71-d1376c40fc7a",
   "metadata": {},
   "outputs": [],
   "source": [
    "df = df.T"
   ]
  },
  {
   "cell_type": "code",
   "execution_count": 35,
   "id": "4a2e5498-934b-4ff7-a443-831deb5a8b1e",
   "metadata": {},
   "outputs": [],
   "source": [
    "columns = list(df[df[158]=='Kenya'].values[0])"
   ]
  },
  {
   "cell_type": "code",
   "execution_count": 38,
   "id": "b0334184-11e3-41df-8951-b897727226ba",
   "metadata": {},
   "outputs": [],
   "source": [
    "df = df[df[158]!='Kenya']\n",
    "df.columns = columns"
   ]
  },
  {
   "cell_type": "code",
   "execution_count": null,
   "id": "29e2942e-3341-4424-863c-c23e87783911",
   "metadata": {},
   "outputs": [],
   "source": []
  },
  {
   "cell_type": "markdown",
   "id": "bf5cf134-8a0c-4198-8b68-5ea0faafd69c",
   "metadata": {},
   "source": [
    "#### When did uganda surpass 100k cases?"
   ]
  },
  {
   "cell_type": "code",
   "execution_count": 42,
   "id": "bb6672d0-1621-43b4-9fdc-4e4a9959f677",
   "metadata": {},
   "outputs": [
    {
     "data": {
      "text/plain": [
       "'8/23/21'"
      ]
     },
     "execution_count": 42,
     "metadata": {},
     "output_type": "execute_result"
    }
   ],
   "source": [
    "df[df['Uganda']>100000].index[0]"
   ]
  },
  {
   "cell_type": "markdown",
   "id": "ebf3de2d-dc14-4e8f-a833-fe24f9c24137",
   "metadata": {},
   "source": [
    "#### when did uganda surpass 50k"
   ]
  },
  {
   "cell_type": "code",
   "execution_count": 45,
   "id": "fb4da9d4-1de6-422b-a7a2-c202ba4086a8",
   "metadata": {},
   "outputs": [
    {
     "data": {
      "text/plain": [
       "'6/4/21'"
      ]
     },
     "execution_count": 45,
     "metadata": {},
     "output_type": "execute_result"
    }
   ],
   "source": [
    "df[df['Uganda']>50000].index[0]"
   ]
  },
  {
   "cell_type": "markdown",
   "id": "b8f175e8-81ac-46a6-9400-2f437fca36c8",
   "metadata": {},
   "source": [
    "#### what are the days when kenya was above 100k cases and uganda was below 50 cases?"
   ]
  },
  {
   "cell_type": "code",
   "execution_count": 49,
   "id": "6f62b417-f9fe-468b-8f72-e46f5fedaabc",
   "metadata": {},
   "outputs": [
    {
     "data": {
      "text/plain": [
       "Index(['1/25/21', '1/26/21', '1/27/21', '1/28/21', '1/29/21', '1/30/21',\n",
       "       '1/31/21', '2/1/21', '2/2/21', '2/3/21',\n",
       "       ...\n",
       "       '5/25/21', '5/26/21', '5/27/21', '5/28/21', '5/29/21', '5/30/21',\n",
       "       '5/31/21', '6/1/21', '6/2/21', '6/3/21'],\n",
       "      dtype='object', length=130)"
      ]
     },
     "execution_count": 49,
     "metadata": {},
     "output_type": "execute_result"
    }
   ],
   "source": [
    "df[(df['Uganda']<50000) & (df['Kenya']>100000)].index"
   ]
  },
  {
   "cell_type": "markdown",
   "id": "128efd2b-ed69-44bc-a417-bf72824f7f10",
   "metadata": {},
   "source": [
    "#### what are the day when kenya was above 100k cases and uganda was between 50k and 100k cases?"
   ]
  },
  {
   "cell_type": "code",
   "execution_count": 50,
   "id": "ed77c6af-83ab-466f-8e3b-7f584b07752b",
   "metadata": {},
   "outputs": [
    {
     "data": {
      "text/plain": [
       "Index(['6/4/21', '6/5/21', '6/6/21', '6/7/21', '6/8/21', '6/9/21', '6/10/21',\n",
       "       '6/11/21', '6/12/21', '6/13/21', '6/14/21', '6/15/21', '6/16/21',\n",
       "       '6/17/21', '6/18/21', '6/19/21', '6/20/21', '6/21/21', '6/22/21',\n",
       "       '6/23/21', '6/24/21', '6/25/21', '6/26/21', '6/27/21', '6/28/21',\n",
       "       '6/29/21', '6/30/21', '7/1/21', '7/2/21', '7/3/21', '7/4/21', '7/5/21',\n",
       "       '7/6/21', '7/7/21', '7/8/21', '7/9/21', '7/10/21', '7/11/21', '7/12/21',\n",
       "       '7/13/21', '7/14/21', '7/15/21', '7/16/21', '7/17/21', '7/18/21',\n",
       "       '7/19/21', '7/20/21', '7/21/21', '7/22/21', '7/23/21', '7/24/21',\n",
       "       '7/25/21', '7/26/21', '7/27/21', '7/28/21', '7/29/21', '7/30/21',\n",
       "       '7/31/21', '8/1/21', '8/2/21', '8/3/21', '8/4/21', '8/5/21', '8/6/21',\n",
       "       '8/7/21', '8/8/21', '8/9/21', '8/10/21', '8/11/21', '8/12/21',\n",
       "       '8/13/21', '8/14/21', '8/15/21', '8/16/21', '8/17/21', '8/18/21',\n",
       "       '8/19/21', '8/20/21', '8/21/21', '8/22/21'],\n",
       "      dtype='object')"
      ]
     },
     "execution_count": 50,
     "metadata": {},
     "output_type": "execute_result"
    }
   ],
   "source": [
    "df[(df['Uganda']>50000) & (df['Uganda']<100000) & (df['Kenya']>100000)].index"
   ]
  },
  {
   "cell_type": "code",
   "execution_count": null,
   "id": "df348056-9c3b-4897-8302-8a791f20aacc",
   "metadata": {},
   "outputs": [],
   "source": []
  }
 ],
 "metadata": {
  "kernelspec": {
   "display_name": "Python 3 (ipykernel)",
   "language": "python",
   "name": "python3"
  },
  "language_info": {
   "codemirror_mode": {
    "name": "ipython",
    "version": 3
   },
   "file_extension": ".py",
   "mimetype": "text/x-python",
   "name": "python",
   "nbconvert_exporter": "python",
   "pygments_lexer": "ipython3",
   "version": "3.8.5"
  }
 },
 "nbformat": 4,
 "nbformat_minor": 5
}
