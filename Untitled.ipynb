{
 "cells": [
  {
   "cell_type": "code",
   "execution_count": 46,
   "id": "7e87653d-983b-4c2f-ba91-a21ff6ae1969",
   "metadata": {},
   "outputs": [],
   "source": [
    "import pandas as pd\n",
    "# link to the data https://data.humdata.org/dataset/novel-coronavirus-2019-ncov-cases"
   ]
  },
  {
   "cell_type": "code",
   "execution_count": 17,
   "id": "c3cff0be-38b2-4ec7-bb2a-207e71275bed",
   "metadata": {},
   "outputs": [],
   "source": [
    "df = pd.read_csv('time_series_covid19_confirmed_global.csv')\n",
    "df = df.drop(['Province/State','Lat','Long'],axis=1)\n",
    "df['Country/Region'] = df['Country/Region'].apply(lambda x:str(x).lower())\n",
    "df = df[df['Country/Region'].apply(lambda x : x in ['uganda','kenya','tanzania'])].T"
   ]
  },
  {
   "cell_type": "code",
   "execution_count": 29,
   "id": "ae69a5ec-2f04-4c3e-ba89-019530a62861",
   "metadata": {},
   "outputs": [],
   "source": [
    "columns = list(df[df[158]=='kenya'].values[0])"
   ]
  },
  {
   "cell_type": "code",
   "execution_count": 32,
   "id": "54acc1e8-d39d-44cf-aaad-d5900a827d96",
   "metadata": {},
   "outputs": [],
   "source": [
    "df = df[df[158]!='kenya']\n",
    "df.columns = columns"
   ]
  },
  {
   "cell_type": "code",
   "execution_count": 34,
   "id": "a0ddc378-9c68-43b2-8602-695db2aa1ff4",
   "metadata": {},
   "outputs": [],
   "source": [
    "## When did uganda surpass 100k cases?"
   ]
  },
  {
   "cell_type": "code",
   "execution_count": 40,
   "id": "bb6672d0-1621-43b4-9fdc-4e4a9959f677",
   "metadata": {},
   "outputs": [
    {
     "data": {
      "text/html": [
       "<div>\n",
       "<style scoped>\n",
       "    .dataframe tbody tr th:only-of-type {\n",
       "        vertical-align: middle;\n",
       "    }\n",
       "\n",
       "    .dataframe tbody tr th {\n",
       "        vertical-align: top;\n",
       "    }\n",
       "\n",
       "    .dataframe thead th {\n",
       "        text-align: right;\n",
       "    }\n",
       "</style>\n",
       "<table border=\"1\" class=\"dataframe\">\n",
       "  <thead>\n",
       "    <tr style=\"text-align: right;\">\n",
       "      <th></th>\n",
       "      <th>kenya</th>\n",
       "      <th>tanzania</th>\n",
       "      <th>uganda</th>\n",
       "    </tr>\n",
       "  </thead>\n",
       "  <tbody>\n",
       "    <tr>\n",
       "      <th>8/23/21</th>\n",
       "      <td>229628</td>\n",
       "      <td>1367</td>\n",
       "      <td>118777</td>\n",
       "    </tr>\n",
       "    <tr>\n",
       "      <th>8/24/21</th>\n",
       "      <td>230794</td>\n",
       "      <td>1367</td>\n",
       "      <td>118900</td>\n",
       "    </tr>\n",
       "    <tr>\n",
       "      <th>8/25/21</th>\n",
       "      <td>232052</td>\n",
       "      <td>1367</td>\n",
       "      <td>119037</td>\n",
       "    </tr>\n",
       "    <tr>\n",
       "      <th>8/26/21</th>\n",
       "      <td>232869</td>\n",
       "      <td>1367</td>\n",
       "      <td>119141</td>\n",
       "    </tr>\n",
       "    <tr>\n",
       "      <th>8/27/21</th>\n",
       "      <td>233801</td>\n",
       "      <td>1367</td>\n",
       "      <td>119327</td>\n",
       "    </tr>\n",
       "    <tr>\n",
       "      <th>8/28/21</th>\n",
       "      <td>234589</td>\n",
       "      <td>1367</td>\n",
       "      <td>119544</td>\n",
       "    </tr>\n",
       "    <tr>\n",
       "      <th>8/29/21</th>\n",
       "      <td>234952</td>\n",
       "      <td>1367</td>\n",
       "      <td>119732</td>\n",
       "    </tr>\n",
       "  </tbody>\n",
       "</table>\n",
       "</div>"
      ],
      "text/plain": [
       "          kenya tanzania  uganda\n",
       "8/23/21  229628     1367  118777\n",
       "8/24/21  230794     1367  118900\n",
       "8/25/21  232052     1367  119037\n",
       "8/26/21  232869     1367  119141\n",
       "8/27/21  233801     1367  119327\n",
       "8/28/21  234589     1367  119544\n",
       "8/29/21  234952     1367  119732"
      ]
     },
     "execution_count": 40,
     "metadata": {},
     "output_type": "execute_result"
    }
   ],
   "source": [
    "df[df['uganda']>=100000]"
   ]
  },
  {
   "cell_type": "code",
   "execution_count": 41,
   "id": "4b356f52-9ef4-4677-bf16-751e75ffda6e",
   "metadata": {},
   "outputs": [],
   "source": [
    "## when did uganda surpass 50k"
   ]
  },
  {
   "cell_type": "code",
   "execution_count": 42,
   "id": "fb4da9d4-1de6-422b-a7a2-c202ba4086a8",
   "metadata": {},
   "outputs": [
    {
     "data": {
      "text/html": [
       "<div>\n",
       "<style scoped>\n",
       "    .dataframe tbody tr th:only-of-type {\n",
       "        vertical-align: middle;\n",
       "    }\n",
       "\n",
       "    .dataframe tbody tr th {\n",
       "        vertical-align: top;\n",
       "    }\n",
       "\n",
       "    .dataframe thead th {\n",
       "        text-align: right;\n",
       "    }\n",
       "</style>\n",
       "<table border=\"1\" class=\"dataframe\">\n",
       "  <thead>\n",
       "    <tr style=\"text-align: right;\">\n",
       "      <th></th>\n",
       "      <th>kenya</th>\n",
       "      <th>tanzania</th>\n",
       "      <th>uganda</th>\n",
       "    </tr>\n",
       "  </thead>\n",
       "  <tbody>\n",
       "    <tr>\n",
       "      <th>6/4/21</th>\n",
       "      <td>171942</td>\n",
       "      <td>509</td>\n",
       "      <td>51006</td>\n",
       "    </tr>\n",
       "    <tr>\n",
       "      <th>6/5/21</th>\n",
       "      <td>172325</td>\n",
       "      <td>509</td>\n",
       "      <td>51676</td>\n",
       "    </tr>\n",
       "    <tr>\n",
       "      <th>6/6/21</th>\n",
       "      <td>172491</td>\n",
       "      <td>509</td>\n",
       "      <td>52935</td>\n",
       "    </tr>\n",
       "    <tr>\n",
       "      <th>6/7/21</th>\n",
       "      <td>172639</td>\n",
       "      <td>509</td>\n",
       "      <td>53961</td>\n",
       "    </tr>\n",
       "    <tr>\n",
       "      <th>6/8/21</th>\n",
       "      <td>173072</td>\n",
       "      <td>509</td>\n",
       "      <td>54669</td>\n",
       "    </tr>\n",
       "    <tr>\n",
       "      <th>...</th>\n",
       "      <td>...</td>\n",
       "      <td>...</td>\n",
       "      <td>...</td>\n",
       "    </tr>\n",
       "    <tr>\n",
       "      <th>8/25/21</th>\n",
       "      <td>232052</td>\n",
       "      <td>1367</td>\n",
       "      <td>119037</td>\n",
       "    </tr>\n",
       "    <tr>\n",
       "      <th>8/26/21</th>\n",
       "      <td>232869</td>\n",
       "      <td>1367</td>\n",
       "      <td>119141</td>\n",
       "    </tr>\n",
       "    <tr>\n",
       "      <th>8/27/21</th>\n",
       "      <td>233801</td>\n",
       "      <td>1367</td>\n",
       "      <td>119327</td>\n",
       "    </tr>\n",
       "    <tr>\n",
       "      <th>8/28/21</th>\n",
       "      <td>234589</td>\n",
       "      <td>1367</td>\n",
       "      <td>119544</td>\n",
       "    </tr>\n",
       "    <tr>\n",
       "      <th>8/29/21</th>\n",
       "      <td>234952</td>\n",
       "      <td>1367</td>\n",
       "      <td>119732</td>\n",
       "    </tr>\n",
       "  </tbody>\n",
       "</table>\n",
       "<p>87 rows × 3 columns</p>\n",
       "</div>"
      ],
      "text/plain": [
       "          kenya tanzania  uganda\n",
       "6/4/21   171942      509   51006\n",
       "6/5/21   172325      509   51676\n",
       "6/6/21   172491      509   52935\n",
       "6/7/21   172639      509   53961\n",
       "6/8/21   173072      509   54669\n",
       "...         ...      ...     ...\n",
       "8/25/21  232052     1367  119037\n",
       "8/26/21  232869     1367  119141\n",
       "8/27/21  233801     1367  119327\n",
       "8/28/21  234589     1367  119544\n",
       "8/29/21  234952     1367  119732\n",
       "\n",
       "[87 rows x 3 columns]"
      ]
     },
     "execution_count": 42,
     "metadata": {},
     "output_type": "execute_result"
    }
   ],
   "source": [
    "df[df['uganda']>=50000]"
   ]
  },
  {
   "cell_type": "code",
   "execution_count": 43,
   "id": "b97fecaf-493d-4dee-b277-88e1ae41e331",
   "metadata": {},
   "outputs": [],
   "source": [
    "## what are the days when kenya was above 100k cases and uganda was below 50 cases?"
   ]
  },
  {
   "cell_type": "code",
   "execution_count": 51,
   "id": "6f62b417-f9fe-468b-8f72-e46f5fedaabc",
   "metadata": {},
   "outputs": [
    {
     "data": {
      "text/html": [
       "<div>\n",
       "<style scoped>\n",
       "    .dataframe tbody tr th:only-of-type {\n",
       "        vertical-align: middle;\n",
       "    }\n",
       "\n",
       "    .dataframe tbody tr th {\n",
       "        vertical-align: top;\n",
       "    }\n",
       "\n",
       "    .dataframe thead th {\n",
       "        text-align: right;\n",
       "    }\n",
       "</style>\n",
       "<table border=\"1\" class=\"dataframe\">\n",
       "  <thead>\n",
       "    <tr style=\"text-align: right;\">\n",
       "      <th></th>\n",
       "      <th>kenya</th>\n",
       "      <th>tanzania</th>\n",
       "      <th>uganda</th>\n",
       "    </tr>\n",
       "  </thead>\n",
       "  <tbody>\n",
       "    <tr>\n",
       "      <th>1/25/21</th>\n",
       "      <td>100052</td>\n",
       "      <td>509</td>\n",
       "      <td>39188</td>\n",
       "    </tr>\n",
       "    <tr>\n",
       "      <th>1/26/21</th>\n",
       "      <td>100193</td>\n",
       "      <td>509</td>\n",
       "      <td>39261</td>\n",
       "    </tr>\n",
       "    <tr>\n",
       "      <th>1/27/21</th>\n",
       "      <td>100323</td>\n",
       "      <td>509</td>\n",
       "      <td>39314</td>\n",
       "    </tr>\n",
       "    <tr>\n",
       "      <th>1/28/21</th>\n",
       "      <td>100422</td>\n",
       "      <td>509</td>\n",
       "      <td>39424</td>\n",
       "    </tr>\n",
       "    <tr>\n",
       "      <th>1/29/21</th>\n",
       "      <td>100563</td>\n",
       "      <td>509</td>\n",
       "      <td>39490</td>\n",
       "    </tr>\n",
       "    <tr>\n",
       "      <th>...</th>\n",
       "      <td>...</td>\n",
       "      <td>...</td>\n",
       "      <td>...</td>\n",
       "    </tr>\n",
       "    <tr>\n",
       "      <th>5/30/21</th>\n",
       "      <td>170647</td>\n",
       "      <td>509</td>\n",
       "      <td>46623</td>\n",
       "    </tr>\n",
       "    <tr>\n",
       "      <th>5/31/21</th>\n",
       "      <td>170735</td>\n",
       "      <td>509</td>\n",
       "      <td>47147</td>\n",
       "    </tr>\n",
       "    <tr>\n",
       "      <th>6/1/21</th>\n",
       "      <td>171084</td>\n",
       "      <td>509</td>\n",
       "      <td>47761</td>\n",
       "    </tr>\n",
       "    <tr>\n",
       "      <th>6/2/21</th>\n",
       "      <td>171226</td>\n",
       "      <td>509</td>\n",
       "      <td>48676</td>\n",
       "    </tr>\n",
       "    <tr>\n",
       "      <th>6/3/21</th>\n",
       "      <td>171658</td>\n",
       "      <td>509</td>\n",
       "      <td>49759</td>\n",
       "    </tr>\n",
       "  </tbody>\n",
       "</table>\n",
       "<p>130 rows × 3 columns</p>\n",
       "</div>"
      ],
      "text/plain": [
       "          kenya tanzania uganda\n",
       "1/25/21  100052      509  39188\n",
       "1/26/21  100193      509  39261\n",
       "1/27/21  100323      509  39314\n",
       "1/28/21  100422      509  39424\n",
       "1/29/21  100563      509  39490\n",
       "...         ...      ...    ...\n",
       "5/30/21  170647      509  46623\n",
       "5/31/21  170735      509  47147\n",
       "6/1/21   171084      509  47761\n",
       "6/2/21   171226      509  48676\n",
       "6/3/21   171658      509  49759\n",
       "\n",
       "[130 rows x 3 columns]"
      ]
     },
     "execution_count": 51,
     "metadata": {},
     "output_type": "execute_result"
    }
   ],
   "source": [
    "df[(df['uganda']<=50000)&(df['kenya']>100000)]"
   ]
  },
  {
   "cell_type": "code",
   "execution_count": 45,
   "id": "944b4b3b-a04f-43a6-abfa-0e8ce615c921",
   "metadata": {},
   "outputs": [],
   "source": [
    "## what are the day when kenya was above 100k cases and uganda was between 50k and 100k cases?"
   ]
  },
  {
   "cell_type": "code",
   "execution_count": 57,
   "id": "ed77c6af-83ab-466f-8e3b-7f584b07752b",
   "metadata": {},
   "outputs": [
    {
     "name": "stdout",
     "output_type": "stream",
     "text": [
      "Days from 6/4/21 to 8/22/21\n"
     ]
    }
   ],
   "source": [
    "days = list(df[(df['uganda']>=50000)&(df['kenya']>100000)&(df['uganda']<=100000)].index)\n",
    "print(f'Days from {days[0]} to {days[-1]}')"
   ]
  },
  {
   "cell_type": "code",
   "execution_count": null,
   "id": "df348056-9c3b-4897-8302-8a791f20aacc",
   "metadata": {},
   "outputs": [],
   "source": []
  }
 ],
 "metadata": {
  "kernelspec": {
   "display_name": "Python 3 (ipykernel)",
   "language": "python",
   "name": "python3"
  },
  "language_info": {
   "codemirror_mode": {
    "name": "ipython",
    "version": 3
   },
   "file_extension": ".py",
   "mimetype": "text/x-python",
   "name": "python",
   "nbconvert_exporter": "python",
   "pygments_lexer": "ipython3",
   "version": "3.8.5"
  }
 },
 "nbformat": 4,
 "nbformat_minor": 5
}
